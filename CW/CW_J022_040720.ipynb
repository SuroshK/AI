{
  "nbformat": 4,
  "nbformat_minor": 0,
  "metadata": {
    "colab": {
      "name": "CW_J022_040720.ipynb",
      "provenance": [],
      "authorship_tag": "ABX9TyMI6djz7tnkovMczhkSbB21",
      "include_colab_link": true
    },
    "kernelspec": {
      "name": "python3",
      "display_name": "Python 3"
    },
    "accelerator": "GPU"
  },
  "cells": [
    {
      "cell_type": "markdown",
      "metadata": {
        "id": "view-in-github",
        "colab_type": "text"
      },
      "source": [
        "<a href=\"https://colab.research.google.com/github/SuroshK/AI/blob/master/CW/CW_J022_040720.ipynb\" target=\"_parent\"><img src=\"https://colab.research.google.com/assets/colab-badge.svg\" alt=\"Open In Colab\"/></a>"
      ]
    },
    {
      "cell_type": "code",
      "metadata": {
        "id": "VsgvbImG1aw1",
        "colab_type": "code",
        "colab": {
          "base_uri": "https://localhost:8080/",
          "height": 260
        },
        "outputId": "5f4ae49e-948e-4982-ba6f-8612774cad8c"
      },
      "source": [
        "#LIST\n",
        "\n",
        "a = [1,5,'hey',67,'there']\n",
        "print(type(a),a)\n",
        "\n",
        "a1 = [[1,5,3],[54,86,54],[\"heeyyy\",'bro']]\n",
        "print(type(a1),a1)\n",
        "\n",
        "#TUPLE\n",
        "\n",
        "b = (41,6,'hi',7)\n",
        "print(type(b),b)\n",
        "\n",
        "#SET\n",
        "\n",
        "c = {4,'welcome',63,4}\n",
        "print(type(c),c)\n",
        "\n",
        "#GIVES ERROR - UNHASHABLE TYPE: 'SET'\n",
        "# c1 = {{4,'welcome',63,4},{4,'welcome',63,4}}\n",
        "# print(type(c1),c1)\n",
        "\n",
        "# set can contain TUPLES\n",
        "c2 = {(4,7,'m'),(5,'y')}\n",
        "print(type(c2),c2)\n",
        "\n",
        "#GIVES ERROR - UNHASHABLE TYPE: 'DICT'\n",
        "# c3 ={{'set':{1,5,2},{'tuple':(5,'y',7)}}\n",
        "# print(c3)\n",
        "\n",
        "#ERROR - 'SET' DOES NOT SUPPORT INDEXING\n",
        "# print(c[1])\n",
        "\n",
        "#TypeError: 'set' object is not subscriptable\n",
        "# print(c[:2])\n",
        "\n",
        "#TypeError: unsupported operand type(s) for +: 'set' and 'int'\n",
        "# c4={1,'my'}\n",
        "# c5={6,'name'}\n",
        "# sum1=c4+c5\n",
        "# print(sum1)\n",
        "\n",
        "#ONLY GIVE DISTINCT VALUES\n",
        "c6={3,4,6,7,64,3,53,23,56,74,97}\n",
        "print(c6)\n",
        "\n",
        "#Remove and return an arbitrary set element. TOTALLY RANDOM.\n",
        "print(c6.pop()) #- pops out 64\n",
        "print(c6.pop()) #- pops out 97\n",
        "print(c6.pop()) #- pops out 3\n",
        "print(c6.pop()) #- pops out 4\n",
        "print(c6.pop()) #- pops out 6\n",
        "\n",
        "#Returns TRUE iff present and FALSE if not\n",
        "print(4 in c6)\n",
        "\n",
        "if 4 in c6:\n",
        "  print('It is present in set')\n",
        "else:\n",
        "  print('integer not found')\n",
        "\n",
        "#Dictionary\n",
        "\n",
        "d={'list ':a,'tuple ':b,'set ':c}\n",
        "print(type(d),d)\n",
        "\n"
      ],
      "execution_count": null,
      "outputs": [
        {
          "output_type": "stream",
          "text": [
            "<class 'list'> [1, 5, 'hey', 67, 'there']\n",
            "<class 'list'> [[1, 5, 3], [54, 86, 54], ['heeyyy', 'bro']]\n",
            "<class 'tuple'> (41, 6, 'hi', 7)\n",
            "<class 'set'> {'welcome', 4, 63}\n",
            "<class 'set'> {(4, 7, 'm'), (5, 'y')}\n",
            "{64, 97, 3, 4, 6, 7, 74, 53, 23, 56}\n",
            "64\n",
            "97\n",
            "3\n",
            "4\n",
            "6\n",
            "False\n",
            "integer not found\n",
            "<class 'dict'> {'list ': [1, 5, 'hey', 67, 'there'], 'tuple ': (41, 6, 'hi', 7), 'set ': {'welcome', 4, 63}}\n"
          ],
          "name": "stdout"
        }
      ]
    }
  ]
}