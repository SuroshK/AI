{
  "nbformat": 4,
  "nbformat_minor": 0,
  "metadata": {
    "colab": {
      "name": "CW_J022_110720.ipynb",
      "provenance": [],
      "collapsed_sections": [],
      "authorship_tag": "ABX9TyOI4g/XfOUx0kzkfkmIHbBA",
      "include_colab_link": true
    },
    "kernelspec": {
      "name": "python3",
      "display_name": "Python 3"
    }
  },
  "cells": [
    {
      "cell_type": "markdown",
      "metadata": {
        "id": "view-in-github",
        "colab_type": "text"
      },
      "source": [
        "<a href=\"https://colab.research.google.com/github/SuroshK/AI/blob/master/CW/CW_J022_110720.ipynb\" target=\"_parent\"><img src=\"https://colab.research.google.com/assets/colab-badge.svg\" alt=\"Open In Colab\"/></a>"
      ]
    },
    {
      "cell_type": "code",
      "metadata": {
        "id": "fxbi4aBgvVB1",
        "colab_type": "code",
        "colab": {
          "base_uri": "https://localhost:8080/",
          "height": 33
        },
        "outputId": "ed51fae7-e5e1-403c-f8be-5e3bc92c5b75"
      },
      "source": [
        "# #indentation\n",
        "# a=5\n",
        "# b=6\n",
        "\n",
        "# print(a,b)\n",
        "\n",
        "# if b>0:\n",
        "#     print('a')\n",
        "\n",
        "# def printer():\n",
        "#   print(a+b)\n",
        "# def sum(a,b):\n",
        "#   return a+b\n",
        "\n",
        "# func_ret1=printer()\n",
        "\n",
        "# c=func_ret2=sum(a,b)\n",
        "# print(c)\n",
        "\n",
        "## to remove variable b from the environment\n",
        "# del b \n",
        "# print(b)\n",
        "\n",
        "##as here a is not equal to c\n",
        "# print(a==c)\n",
        "\n",
        "##binary to integer - (int('number of that base',base)) \n",
        "\n",
        "# d=int('111',2)\n",
        "# print(d)\n",
        "# float(d)\n",
        "\n",
        "# d=int('A',11)\n",
        "\n",
        "# print(type(str(d)))\n",
        "\n",
        "# a_=4 #for using reserve keyword\n",
        "# a=6\n",
        "# _a=9 # variable is intended for internal use\n",
        "# __a=12\n",
        "# print(a_,a,_a,__a)\n",
        "\n",
        "# #public variable vs private variable\n",
        "\n",
        "# class human:\n",
        "#   \"\"\"Members fo a class\"\"\"\n",
        "#   #attribute - variables - compulsory\n",
        "#   #method/behaviour - function - compulsory\n",
        "\n",
        "\n",
        "class Student:\n",
        "  def __init__(self, name):\n",
        "    self.__name = name\n",
        "  \n",
        "  def displayname(self):\n",
        "    print(self.__name)\n",
        "\n",
        "#Class vs Object\n",
        "s1 = Student('Santhosh')\n",
        "s1.displayname()\n",
        "\n",
        "#Raise an error\n",
        "# print(s1.__name)"
      ],
      "execution_count": null,
      "outputs": [
        {
          "output_type": "stream",
          "text": [
            "Santhosh\n"
          ],
          "name": "stdout"
        }
      ]
    },
    {
      "cell_type": "code",
      "metadata": {
        "id": "SE_7I6Nuaefe",
        "colab_type": "code",
        "colab": {
          "base_uri": "https://localhost:8080/",
          "height": 197
        },
        "outputId": "b20633ec-a0e7-42fe-b692-2d42dbbeb4c8"
      },
      "source": [
        "# import pandas as pd\n",
        "\n",
        "# #empty dataframe\n",
        "# a = pd.DataFrame()\n",
        "\n",
        "# #dataframe with column only\n",
        "# list1=['a','e','f']\n",
        "# a1 = pd.DataFrame(columns=list1)\n",
        "# print(a1)\n",
        "\n",
        "# #dataframe with both rows and column\n",
        "# a2=pd.DataFrame(index=list1,columns=list1)\n",
        "# print(a2)\n",
        "\n",
        "a3=pd.read_csv(\"https://people.sc.fsu.edu/~jburkardt/data/csv/addresses.csv\")\n",
        "a3\n"
      ],
      "execution_count": null,
      "outputs": [
        {
          "output_type": "execute_result",
          "data": {
            "text/html": [
              "<div>\n",
              "<style scoped>\n",
              "    .dataframe tbody tr th:only-of-type {\n",
              "        vertical-align: middle;\n",
              "    }\n",
              "\n",
              "    .dataframe tbody tr th {\n",
              "        vertical-align: top;\n",
              "    }\n",
              "\n",
              "    .dataframe thead th {\n",
              "        text-align: right;\n",
              "    }\n",
              "</style>\n",
              "<table border=\"1\" class=\"dataframe\">\n",
              "  <thead>\n",
              "    <tr style=\"text-align: right;\">\n",
              "      <th></th>\n",
              "      <th>John</th>\n",
              "      <th>Doe</th>\n",
              "      <th>120 jefferson st.</th>\n",
              "      <th>Riverside</th>\n",
              "      <th>NJ</th>\n",
              "      <th>08075</th>\n",
              "    </tr>\n",
              "  </thead>\n",
              "  <tbody>\n",
              "    <tr>\n",
              "      <th>0</th>\n",
              "      <td>Jack</td>\n",
              "      <td>McGinnis</td>\n",
              "      <td>220 hobo Av.</td>\n",
              "      <td>Phila</td>\n",
              "      <td>PA</td>\n",
              "      <td>9119</td>\n",
              "    </tr>\n",
              "    <tr>\n",
              "      <th>1</th>\n",
              "      <td>John \"Da Man\"</td>\n",
              "      <td>Repici</td>\n",
              "      <td>120 Jefferson St.</td>\n",
              "      <td>Riverside</td>\n",
              "      <td>NJ</td>\n",
              "      <td>8075</td>\n",
              "    </tr>\n",
              "    <tr>\n",
              "      <th>2</th>\n",
              "      <td>Stephen</td>\n",
              "      <td>Tyler</td>\n",
              "      <td>7452 Terrace \"At the Plaza\" road</td>\n",
              "      <td>SomeTown</td>\n",
              "      <td>SD</td>\n",
              "      <td>91234</td>\n",
              "    </tr>\n",
              "    <tr>\n",
              "      <th>3</th>\n",
              "      <td>NaN</td>\n",
              "      <td>Blankman</td>\n",
              "      <td>NaN</td>\n",
              "      <td>SomeTown</td>\n",
              "      <td>SD</td>\n",
              "      <td>298</td>\n",
              "    </tr>\n",
              "    <tr>\n",
              "      <th>4</th>\n",
              "      <td>Joan \"the bone\", Anne</td>\n",
              "      <td>Jet</td>\n",
              "      <td>9th, at Terrace plc</td>\n",
              "      <td>Desert City</td>\n",
              "      <td>CO</td>\n",
              "      <td>123</td>\n",
              "    </tr>\n",
              "  </tbody>\n",
              "</table>\n",
              "</div>"
            ],
            "text/plain": [
              "                    John       Doe  ...   NJ  08075\n",
              "0                   Jack  McGinnis  ...   PA   9119\n",
              "1          John \"Da Man\"    Repici  ...   NJ   8075\n",
              "2                Stephen     Tyler  ...   SD  91234\n",
              "3                    NaN  Blankman  ...   SD    298\n",
              "4  Joan \"the bone\", Anne       Jet  ...   CO    123\n",
              "\n",
              "[5 rows x 6 columns]"
            ]
          },
          "metadata": {
            "tags": []
          },
          "execution_count": 84
        }
      ]
    }
  ]
}