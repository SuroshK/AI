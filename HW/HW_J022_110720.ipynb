{
  "nbformat": 4,
  "nbformat_minor": 0,
  "metadata": {
    "colab": {
      "name": "HW_J022_110720.ipynb",
      "provenance": [],
      "collapsed_sections": [],
      "authorship_tag": "ABX9TyOVw/kKP7WUM6rKFPzjFtuS",
      "include_colab_link": true
    },
    "kernelspec": {
      "name": "python3",
      "display_name": "Python 3"
    }
  },
  "cells": [
    {
      "cell_type": "markdown",
      "metadata": {
        "id": "view-in-github",
        "colab_type": "text"
      },
      "source": [
        "<a href=\"https://colab.research.google.com/github/SuroshK/AI/blob/master/HW/HW_J022_110720.ipynb\" target=\"_parent\"><img src=\"https://colab.research.google.com/assets/colab-badge.svg\" alt=\"Open In Colab\"/></a>"
      ]
    },
    {
      "cell_type": "code",
      "metadata": {
        "id": "UA298FKPvXpQ",
        "colab_type": "code",
        "colab": {
          "base_uri": "https://localhost:8080/",
          "height": 982
        },
        "outputId": "a2a9f56c-b6ed-4fcb-8b9f-79e27adb73eb"
      },
      "source": [
        "import pandas as pd\n",
        "import seaborn as sns\n",
        "\n",
        "class DataRead1:                                                                                    # A Class DataRead1 is made as parent class\n",
        "  def __init__(self):                                                                               # A Constructor is made to read a csv file\n",
        "    self.read=pd.read_csv(\"https://people.sc.fsu.edu/~jburkardt/data/csv/trees.csv\",index_col= 0)   # To Read a .csv file\n",
        "  def RowSelect(self,r1,r2):                                                                        # Custom Function RowSelect() is made with any 2 args taking row numbers as argument\n",
        "    self.read1=self.read.iloc[[r1,r2]]                                                              # Accesing \"r1\" and \"r2\" rows with help of .iloc as they are numerical values \n",
        "class DataRead2(DataRead1):                                                                         # A Sub-class DataRead2 is made and DataRead1 is passed as argument to link parent class with sub-class\n",
        "   def corrp(self):                                                                                 # A function Corrp() is made to display correlation plot(here Heatmap)\n",
        "     self.hm=sns.heatmap(self.read)                                                                 # Creating Heatmap for the data\n",
        "   def RowSelect(self,r1,r2,r3):                                                                    # Overriding function RowSelect() to display any 3 rows\n",
        "     self.read1=self.read.iloc[[r1,r2,r3]]\n",
        "\n",
        "## MAIN ##\n",
        "d = DataRead1()                                                                                     # An object \"d\" for class DataRead1 is made and passed with argument cflink to read .csv file\n",
        "print(d.read)                                                                                       # To Display .csv File \n",
        "\n",
        "d.RowSelect(1,2)                                                                                    # The Function RowSelect() is called using object \"d\"\n",
        "print(d.read1)                                                                                      # To display the asked rows\n",
        "\n",
        "d1 = DataRead2()                                                                                    # An object \"d1\" for class DataRead2 is made\n",
        "\n",
        "d1.corrp()                                                                                          # The Function corrp() is called using object \"d1\"\n",
        "print(d1.hm)                                                                                        # To Display the Correlation Plot\n",
        "\n",
        "d1.RowSelect(1,2,3)                                                                                 # The Ovveride Function in class DataRead2 is called to display any 3 rows\n",
        "print(d1.read1)                                                                                     # Display the asked 3 rows\n",
        "\n",
        "#print(issubclass(DataRead2,DataRead1))                                                             # A command to check if the class DataRead2 is subclass of DataRead1 or not , here it is returns \"True\" "
      ],
      "execution_count": 9,
      "outputs": [
        {
          "output_type": "stream",
          "text": [
            "        \"Girth (in)\"   \"Height (ft)\"   \"Volume(ft^3)\"\n",
            "Index                                                \n",
            "1                8.3              70             10.3\n",
            "2                8.6              65             10.3\n",
            "3                8.8              63             10.2\n",
            "4               10.5              72             16.4\n",
            "5               10.7              81             18.8\n",
            "6               10.8              83             19.7\n",
            "7               11.0              66             15.6\n",
            "8               11.0              75             18.2\n",
            "9               11.1              80             22.6\n",
            "10              11.2              75             19.9\n",
            "11              11.3              79             24.2\n",
            "12              11.4              76             21.0\n",
            "13              11.4              76             21.4\n",
            "14              11.7              69             21.3\n",
            "15              12.0              75             19.1\n",
            "16              12.9              74             22.2\n",
            "17              12.9              85             33.8\n",
            "18              13.3              86             27.4\n",
            "19              13.7              71             25.7\n",
            "20              13.8              64             24.9\n",
            "21              14.0              78             34.5\n",
            "22              14.2              80             31.7\n",
            "23              14.5              74             36.3\n",
            "24              16.0              72             38.3\n",
            "25              16.3              77             42.6\n",
            "26              17.3              81             55.4\n",
            "27              17.5              82             55.7\n",
            "28              17.9              80             58.3\n",
            "29              18.0              80             51.5\n",
            "30              18.0              80             51.0\n",
            "31              20.6              87             77.0\n",
            "        \"Girth (in)\"   \"Height (ft)\"   \"Volume(ft^3)\"\n",
            "Index                                                \n",
            "2                8.6              65             10.3\n",
            "3                8.8              63             10.2\n",
            "AxesSubplot(0.125,0.125;0.62x0.755)\n",
            "        \"Girth (in)\"   \"Height (ft)\"   \"Volume(ft^3)\"\n",
            "Index                                                \n",
            "2                8.6              65             10.3\n",
            "3                8.8              63             10.2\n",
            "4               10.5              72             16.4\n"
          ],
          "name": "stdout"
        },
        {
          "output_type": "display_data",
          "data": {
            "image/png": "[encoded data removed]",
            "text/plain": [
              "<Figure size 432x288 with 2 Axes>"
            ]
          },
          "metadata": {
            "tags": [],
            "needs_background": "light"
          }
        }
      ]
    }
  ]
}