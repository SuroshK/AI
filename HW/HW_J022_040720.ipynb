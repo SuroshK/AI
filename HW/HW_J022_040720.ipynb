{
  "nbformat": 4,
  "nbformat_minor": 0,
  "metadata": {
    "colab": {
      "name": "HW_J022_040720.ipynb",
      "provenance": [],
      "collapsed_sections": [],
      "authorship_tag": "ABX9TyP3ZIB14024Qwooax65L5aw",
      "include_colab_link": true
    },
    "kernelspec": {
      "name": "python3",
      "display_name": "Python 3"
    }
  },
  "cells": [
    {
      "cell_type": "markdown",
      "metadata": {
        "id": "view-in-github",
        "colab_type": "text"
      },
      "source": [
        "<a href=\"https://colab.research.google.com/github/SuroshK/AI/blob/master/HW/HW_J022_040720.ipynb\" target=\"_parent\"><img src=\"https://colab.research.google.com/assets/colab-badge.svg\" alt=\"Open In Colab\"/></a>"
      ]
    },
    {
      "cell_type": "code",
      "metadata": {
        "id": "pM7cZYmGHXye",
        "colab_type": "code",
        "colab": {
          "base_uri": "https://localhost:8080/",
          "height": 696
        },
        "outputId": "0089ccb0-4cae-4dd0-a6bd-0086ea9f71c5"
      },
      "source": [
        "# 1. PYTHON IF-ELSE\n",
        "#!/bin/python3\n",
        "\n",
        "import math\n",
        "import os\n",
        "import random\n",
        "import re\n",
        "import sys\n",
        "\n",
        "\n",
        "\n",
        "if __name__ == '__main__':\n",
        "    n = int(input().strip())\n",
        "    if n%2!=0:\n",
        "        print('Weird')\n",
        "    else:\n",
        "        if n>=2 and n<=5:\n",
        "            print('Not Weird')\n",
        "        if n>=6 and n<=20:\n",
        "            print('Weird')\n",
        "        if n>20:\n",
        "            print('Not Weird')\n",
        "\n",
        "# 2. ARITHMETIC OPERATORS\n",
        "if __name__ == '__main__':\n",
        "    a = int(input())\n",
        "    b = int(input())\n",
        "    print(a+b)\n",
        "    print(a-b)\n",
        "    print(a*b)\n",
        "\n",
        "# 3. PYTHON:DIVISION\n",
        "if __name__ == '__main__':\n",
        "    a = int(input())\n",
        "    b = int(input())\n",
        "    print(a//b)\n",
        "    print(a/b)\n",
        "\n",
        "# 4. LOOPS\n",
        "if __name__ == '__main__':\n",
        "    n = int(input())\n",
        "    for i in range(0,n):\n",
        "        print(i**2)\n",
        "\n",
        "# 5. PRINT FUNCTION\n",
        "if __name__ == '__main__':\n",
        "    n = int(input())\n",
        "    for i in range(0,n):\n",
        "        print(i+1,end='')\n",
        "\n",
        "# 6. LIST COMPREHENSIONS\n",
        "#NOTE: In List Comprehensions we does not have to append each value separatly in each loop instead we define the variable and loops and (if-else) condition inside the lists itself \n",
        "if __name__ == '__main__':\n",
        "    x = int(input())\n",
        "    y = int(input())\n",
        "    z = int(input())\n",
        "    n = int(input())\n",
        "    print([[x1,y1,z1] \n",
        "            for x1 in range(0,x+1)\n",
        "                for y1 in range(0,y+1)\n",
        "                    for z1 in range(0,z+1)\n",
        "                        if x1 + y1 + z1 != n ]\n",
        "        )"
      ],
      "execution_count": 2,
      "outputs": [
        {
          "output_type": "stream",
          "text": [
            "4\n",
            "Not Weird\n",
            "1\n",
            "2\n",
            "3\n",
            "-1\n",
            "2\n",
            "65\n",
            "41\n",
            "1\n",
            "1.5853658536585367\n",
            "20\n",
            "0\n",
            "1\n",
            "4\n",
            "9\n",
            "16\n",
            "25\n",
            "36\n",
            "49\n",
            "64\n",
            "81\n",
            "100\n",
            "121\n",
            "144\n",
            "169\n",
            "196\n",
            "225\n",
            "256\n",
            "289\n",
            "324\n",
            "361\n",
            "9\n",
            "1234567893\n",
            "3\n",
            "3\n",
            "3\n",
            "[[0, 0, 0], [0, 0, 1], [0, 0, 2], [0, 1, 0], [0, 1, 1], [0, 1, 3], [0, 2, 0], [0, 2, 2], [0, 2, 3], [0, 3, 1], [0, 3, 2], [0, 3, 3], [1, 0, 0], [1, 0, 1], [1, 0, 3], [1, 1, 0], [1, 1, 2], [1, 1, 3], [1, 2, 1], [1, 2, 2], [1, 2, 3], [1, 3, 0], [1, 3, 1], [1, 3, 2], [1, 3, 3], [2, 0, 0], [2, 0, 2], [2, 0, 3], [2, 1, 1], [2, 1, 2], [2, 1, 3], [2, 2, 0], [2, 2, 1], [2, 2, 2], [2, 2, 3], [2, 3, 0], [2, 3, 1], [2, 3, 2], [2, 3, 3], [3, 0, 1], [3, 0, 2], [3, 0, 3], [3, 1, 0], [3, 1, 1], [3, 1, 2], [3, 1, 3], [3, 2, 0], [3, 2, 1], [3, 2, 2], [3, 2, 3], [3, 3, 0], [3, 3, 1], [3, 3, 2], [3, 3, 3]]\n"
          ],
          "name": "stdout"
        }
      ]
    }
  ]
}